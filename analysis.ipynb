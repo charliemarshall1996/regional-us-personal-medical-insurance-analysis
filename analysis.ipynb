{
 "cells": [
  {
   "cell_type": "markdown",
   "metadata": {},
   "source": [
    "# US Personal Medical Insurance - Regional Analysis\n",
    "\n",
    "As mentioned in the [README](./README.md), the goal of this project quantify the impact of regional factors on insurance charges and to identify if certain regions are more prone to higher charges and why. As such, I have identified 3 different analyses that will help me achieve this goal:\n",
    "\n",
    "1. Descriptive Statistics - This will help to identify the differences of insurances costs between regions.\n",
    "2. Correlation Analysis - This will help to understand the correlation between other variables and their effect on insurance charges between each region.\n",
    "3. Comparative Analyses of Variables - To identify differences of variables between each region, which may be impacting charges.\n",
    "\n",
    "First, however, I must import and prepare the dataset."
   ]
  },
  {
   "cell_type": "markdown",
   "metadata": {},
   "source": [
    "## Importing the data\n",
    "\n",
    "In order to import the data for analysis, I will be using the pandas `read_csv()` function to read my csv file as a `DataFrame` object:"
   ]
  },
  {
   "cell_type": "code",
   "execution_count": 1,
   "metadata": {},
   "outputs": [],
   "source": [
    "# Import pandas library\n",
    "import pandas as pd\n",
    "\n",
    "# Import dataset\n",
    "df = pd.read_csv(\"./data/dataset/insurance.csv\")\n"
   ]
  },
  {
   "cell_type": "markdown",
   "metadata": {},
   "source": [
    "Next, to prepare the data, I will simply separate the `DataFrame` into 4 separate `DataFrame` for each region:"
   ]
  },
  {
   "cell_type": "code",
   "execution_count": 2,
   "metadata": {},
   "outputs": [],
   "source": [
    "# Create regional DataFrames\n",
    "nw_df = df[df['region'] == 'northwest']\n",
    "ne_df = df[df['region'] == 'northeast']\n",
    "sw_df = df[df['region'] == 'southwest']\n",
    "se_df = df[df['region'] == 'southeast']"
   ]
  }
 ],
 "metadata": {
  "kernelspec": {
   "display_name": ".venv",
   "language": "python",
   "name": "python3"
  },
  "language_info": {
   "codemirror_mode": {
    "name": "ipython",
    "version": 3
   },
   "file_extension": ".py",
   "mimetype": "text/x-python",
   "name": "python",
   "nbconvert_exporter": "python",
   "pygments_lexer": "ipython3",
   "version": "3.12.1"
  }
 },
 "nbformat": 4,
 "nbformat_minor": 2
}
