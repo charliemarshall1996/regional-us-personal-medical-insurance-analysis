{
 "cells": [
  {
   "cell_type": "markdown",
   "metadata": {},
   "source": [
    "# US Personal Medical Insurance - Regional Analysis\n",
    "\n",
    "As mentioned in the [README](./README.md), the goal of this project quantify the impact of regional factors on insurance charges and to identify if certain regions are more prone to higher charges and why. As such, I have identified 3 different analyses that will help me achieve this goal:\n",
    "\n",
    "1. Descriptive Statistics - This will help to identify the differences of insurances costs between regions.\n",
    "2. Correlation Analysis - This will help to understand the correlation between other variables and their effect on insurance charges between each region.\n",
    "3. Comparative Analyses of Variables - To identify differences of variables between each region, which may be impacting charges.\n",
    "\n",
    "First, however, I must import and prepare the dataset."
   ]
  },
  {
   "cell_type": "code",
   "execution_count": null,
   "metadata": {},
   "outputs": [],
   "source": []
  }
 ],
 "metadata": {
  "kernelspec": {
   "display_name": ".venv",
   "language": "python",
   "name": "python3"
  },
  "language_info": {
   "name": "python",
   "version": "3.12.1"
  }
 },
 "nbformat": 4,
 "nbformat_minor": 2
}
